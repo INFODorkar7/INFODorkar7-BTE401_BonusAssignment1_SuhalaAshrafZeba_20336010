{
  "nbformat": 4,
  "nbformat_minor": 0,
  "metadata": {
    "colab": {
      "provenance": [],
      "authorship_tag": "ABX9TyN7ckuSFx9b9IQdoOKAxsZT",
      "include_colab_link": true
    },
    "kernelspec": {
      "name": "python3",
      "display_name": "Python 3"
    },
    "language_info": {
      "name": "python"
    }
  },
  "cells": [
    {
      "cell_type": "markdown",
      "metadata": {
        "id": "view-in-github",
        "colab_type": "text"
      },
      "source": [
        "<a href=\"https://colab.research.google.com/github/INFODorkar7/INFODorkar7-BTE401_BonusAssignment1_SuhalaAshrafZeba_20336010/blob/main/BTE_401_SuhalaAshrafZeba_20336010.ipynb\" target=\"_parent\"><img src=\"https://colab.research.google.com/assets/colab-badge.svg\" alt=\"Open In Colab\"/></a>"
      ]
    },
    {
      "cell_type": "code",
      "execution_count": 1,
      "metadata": {
        "colab": {
          "base_uri": "https://localhost:8080/"
        },
        "id": "x_8gypJMbUii",
        "outputId": "827f03ab-9fc1-4922-b0d6-a96de818ece2"
      },
      "outputs": [
        {
          "output_type": "stream",
          "name": "stdout",
          "text": [
            "Collecting biopython\n",
            "  Downloading biopython-1.81-cp310-cp310-manylinux_2_17_x86_64.manylinux2014_x86_64.whl (3.1 MB)\n",
            "\u001b[?25l     \u001b[90m━━━━━━━━━━━━━━━━━━━━━━━━━━━━━━━━━━━━━━━━\u001b[0m \u001b[32m0.0/3.1 MB\u001b[0m \u001b[31m?\u001b[0m eta \u001b[36m-:--:--\u001b[0m\r\u001b[2K     \u001b[91m━\u001b[0m\u001b[91m╸\u001b[0m\u001b[90m━━━━━━━━━━━━━━━━━━━━━━━━━━━━━━━━━━━━━━\u001b[0m \u001b[32m0.1/3.1 MB\u001b[0m \u001b[31m3.5 MB/s\u001b[0m eta \u001b[36m0:00:01\u001b[0m\r\u001b[2K     \u001b[91m━━━━━━━━━━━━━\u001b[0m\u001b[91m╸\u001b[0m\u001b[90m━━━━━━━━━━━━━━━━━━━━━━━━━━\u001b[0m \u001b[32m1.0/3.1 MB\u001b[0m \u001b[31m15.6 MB/s\u001b[0m eta \u001b[36m0:00:01\u001b[0m\r\u001b[2K     \u001b[91m━━━━━━━━━━━━━━━━━━━━━━━━━━━━━━━━━━━━━━━\u001b[0m\u001b[91m╸\u001b[0m \u001b[32m3.1/3.1 MB\u001b[0m \u001b[31m30.7 MB/s\u001b[0m eta \u001b[36m0:00:01\u001b[0m\r\u001b[2K     \u001b[90m━━━━━━━━━━━━━━━━━━━━━━━━━━━━━━━━━━━━━━━━\u001b[0m \u001b[32m3.1/3.1 MB\u001b[0m \u001b[31m25.8 MB/s\u001b[0m eta \u001b[36m0:00:00\u001b[0m\n",
            "\u001b[?25hRequirement already satisfied: numpy in /usr/local/lib/python3.10/dist-packages (from biopython) (1.23.5)\n",
            "Installing collected packages: biopython\n",
            "Successfully installed biopython-1.81\n"
          ]
        }
      ],
      "source": [
        "pip install biopython"
      ]
    },
    {
      "cell_type": "code",
      "source": [
        "from Bio import SeqIO\n",
        "\n",
        "# Read DNA sequence from a fasta file\n",
        "def read_dna_sequence(file_path):\n",
        "    sequences = SeqIO.parse(file_path, \"fasta\")\n",
        "    for seq_record in sequences:\n",
        "        return str(seq_record.seq)\n",
        "    return None\n",
        "\n",
        "# Find the promoter sequence\n",
        "def find_promoter_sequence(dna_sequence, promoter_length):\n",
        "    if not dna_sequence:\n",
        "        return None\n",
        "\n",
        "    promoter_sequence = dna_sequence[:promoter_length]\n",
        "    return promoter_sequence\n",
        "\n",
        "def main():\n",
        "    fasta_file_path = input(\"Enter the path to the DNA sequence file (fasta format): \")\n",
        "    dna_sequence = read_dna_sequence(fasta_file_path)\n",
        "\n",
        "    if dna_sequence is None:\n",
        "        print(\"Error: Unable to read DNA sequence from the file.\")\n",
        "        return\n",
        "\n",
        "    promoter_length = int(input(\"Enter the desired length of the promoter sequence: \"))\n",
        "\n",
        "    promoter_sequence = find_promoter_sequence(dna_sequence, promoter_length)\n",
        "    if promoter_sequence is None:\n",
        "        print(\"Promoter sequence not found.\")\n",
        "    else:\n",
        "        print(\"Promoter sequence:\", promoter_sequence)\n",
        "\n",
        "if __name__ == \"__main__\":\n",
        "    main()"
      ],
      "metadata": {
        "colab": {
          "base_uri": "https://localhost:8080/"
        },
        "id": "VGano-9Cbkvi",
        "outputId": "bd215b41-e212-46d2-8a59-79ae4566827e"
      },
      "execution_count": 2,
      "outputs": [
        {
          "output_type": "stream",
          "name": "stdout",
          "text": [
            "Enter the path to the DNA sequence file (fasta format): /content/fasta_py.py\n",
            "Enter the desired length of the promoter sequence: 70\n",
            "Promoter sequence: GCATCAGTAAAAGGGCTAGTATCTCCGCCATTGGGGGCGATAGAGCCTGATTTGAAGGCAATGCCCGGCT\n"
          ]
        }
      ]
    },
    {
      "cell_type": "code",
      "source": [
        "from Bio import SeqIO\n",
        "\n",
        "# Read DNA sequence from a fasta file\n",
        "def read_fasta_file(file_path):\n",
        "    sequences = SeqIO.parse(file_path, \"fasta\")\n",
        "    for seq_record in sequences:\n",
        "        return str(seq_record.seq)\n",
        "    return None\n",
        "\n",
        "# Main function\n",
        "def main():\n",
        "    fasta_file_path = input(\"Enter the path to the fasta file: \")\n",
        "    dna_sequence = read_fasta_file(fasta_file_path)\n",
        "\n",
        "    if dna_sequence is None:\n",
        "        print(\"Error: Unable to read DNA sequence from the fasta file.\")\n",
        "        return\n",
        "\n",
        "    promoter_sequence = input(\"Enter the promoter sequence: \")\n",
        "    start_codon = \"ATG\"\n",
        "    max_distance = 30\n",
        "\n",
        "    promoter_index = dna_sequence.find(promoter_sequence)\n",
        "    if promoter_index == -1:\n",
        "        print(\"Promoter sequence not found in the DNA sequence.\")\n",
        "        return\n",
        "\n",
        "    print(\"Promoter sequence found at index:\", promoter_index)\n",
        "\n",
        "    start_codon_index = dna_sequence.find(start_codon, max(0, promoter_index - max_distance), promoter_index + len(promoter_sequence) + max_distance)\n",
        "    if start_codon_index == -1:\n",
        "        print(\"Start codon (ATG) not found within\", max_distance, \"bases of the promoter sequence.\")\n",
        "        return\n",
        "\n",
        "    print(\"Start codon (ATG) found at index:\", start_codon_index)\n",
        "    print(\"Both promoter sequence and start codon are within\", max_distance, \"bases.\")\n",
        "    print(\"Gene identification successful!\")\n",
        "\n",
        "if __name__ == \"__main__\":\n",
        "    main()"
      ],
      "metadata": {
        "colab": {
          "base_uri": "https://localhost:8080/"
        },
        "id": "kGsjuSjDb9YS",
        "outputId": "4ca4b9b0-662d-4dd6-ea1a-7eb4f96d0f65"
      },
      "execution_count": 3,
      "outputs": [
        {
          "output_type": "stream",
          "name": "stdout",
          "text": [
            "Enter the path to the fasta file: /content/fasta_py.py\n",
            "Enter the promoter sequence: GCATCAGTAAAAGGGCTAGTATCTCCGCCATTGGGGGCGATAGAGCCTGATTTGAAGGCAATGCCCGGCT\n",
            "Promoter sequence found at index: 0\n",
            "Start codon (ATG) found at index: 60\n",
            "Both promoter sequence and start codon are within 30 bases.\n",
            "Gene identification successful!\n"
          ]
        }
      ]
    },
    {
      "cell_type": "code",
      "source": [
        "# Translate DNA sequence to protein sequence\n",
        "def translate_sequence(dna_sequence):\n",
        "    codon_table = {\n",
        "        'ATA': 'I', 'ATC': 'I', 'ATT': 'I', 'ATG': 'M',\n",
        "        'ACA': 'T', 'ACC': 'T', 'ACG': 'T', 'ACT': 'T',\n",
        "        'AAC': 'N', 'AAT': 'N', 'AAA': 'K', 'AAG': 'K',\n",
        "        'AGC': 'S', 'AGT': 'S', 'AGA': 'R', 'AGG': 'R',\n",
        "        'CTA': 'L', 'CTC': 'L', 'CTG': 'L', 'CTT': 'L',\n",
        "        'CCA': 'P', 'CCC': 'P', 'CCG': 'P', 'CCT': 'P',\n",
        "        'CAC': 'H', 'CAT': 'H', 'CAA': 'Q', 'CAG': 'Q',\n",
        "        'CGA': 'R', 'CGC': 'R', 'CGG': 'R', 'CGT': 'R',\n",
        "        'GTA': 'V', 'GTC': 'V', 'GTG': 'V', 'GTT': 'V',\n",
        "        'GCA': 'A', 'GCC': 'A', 'GCG': 'A', 'GCT': 'A',\n",
        "        'GAC': 'D', 'GAT': 'D', 'GAA': 'E', 'GAG': 'E',\n",
        "        'GGA': 'G', 'GGC': 'G', 'GGG': 'G', 'GGT': 'G',\n",
        "        'TCA': 'S', 'TCC': 'S', 'TCG': 'S', 'TCT': 'S',\n",
        "        'TTC': 'F', 'TTT': 'F', 'TTA': 'L', 'TTG': 'L',\n",
        "        'TAC': 'Y', 'TAT': 'Y', 'TAA': '*', 'TAG': '*',\n",
        "        'TGC': 'C', 'TGT': 'C', 'TGA': '*', 'TGG': 'W',\n",
        "    }\n",
        "\n",
        "    protein_sequence = ''\n",
        "    for i in range(0, len(dna_sequence) - 2, 3):\n",
        "        codon = dna_sequence[i:i + 3]\n",
        "        amino_acid = codon_table.get(codon, 'X')  # 'X' for unknown codons\n",
        "        protein_sequence += amino_acid\n",
        "\n",
        "    return protein_sequence\n",
        "\n",
        "# Main function\n",
        "def main():\n",
        "    # Provided DNA sequence\n",
        "    dna_sequence = (\"GCATCAGTAAAAGGGCTAGTATCTCCGCCATTGGGGGCGATAGAGCCTGATTTGAAGGCAATGCCCGGCTGGTCGTTATACTCCATGGCTGCGCGCGCAATGATTTCAAGCTGATCGTAATTCGCTCGCCATGTTGCACGTAGTGCTTGTACTGAAACACCCTGAAGATCTTCGCTGTTGCACGGCACTTCTTCACCAAGATGGTTGTACATATTTGCATTACCGTAATAGGAGTCAGCGCTACAGGCATTGTTTTCTACAATGCCGTCCATTTCGCGAT\")\n",
        "\n",
        "    # Translate the DNA sequence to protein sequence\n",
        "    protein_sequence = translate_sequence(dna_sequence)\n",
        "\n",
        "    # Look for at least 50 consecutive amino acids before a stop codon\n",
        "    gene_found = False\n",
        "    stop_codons = ['TAA', 'TAG', 'TGA']\n",
        "    for i in range(len(protein_sequence) - 50):\n",
        "        if all(protein_sequence[i + j] != '*' for j in range(50)) and \\\n",
        "           any(protein_sequence[i + j] in stop_codons for j in range(50, 53)):\n",
        "            gene_found = True\n",
        "            break\n",
        "\n",
        "    # Output based on gene presence\n",
        "    if gene_found:\n",
        "        print('Gene found')\n",
        "    else:\n",
        "        print('Gene not found')\n",
        "\n",
        "if __name__ == \"__main__\":\n",
        "    main()"
      ],
      "metadata": {
        "colab": {
          "base_uri": "https://localhost:8080/"
        },
        "id": "hESpjyHmcRkb",
        "outputId": "94028e08-0526-4614-e5e4-027948c865cd"
      },
      "execution_count": 4,
      "outputs": [
        {
          "output_type": "stream",
          "name": "stdout",
          "text": [
            "Gene not found\n"
          ]
        }
      ]
    }
  ]
}