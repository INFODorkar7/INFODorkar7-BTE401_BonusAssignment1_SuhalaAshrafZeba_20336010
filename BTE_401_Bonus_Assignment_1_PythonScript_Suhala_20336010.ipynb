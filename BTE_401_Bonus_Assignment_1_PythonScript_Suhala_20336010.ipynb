{
  "nbformat": 4,
  "nbformat_minor": 0,
  "metadata": {
    "colab": {
      "provenance": [],
      "authorship_tag": "ABX9TyMqmzikn2sfYpgowsT0u7Ee",
      "include_colab_link": true
    },
    "kernelspec": {
      "name": "python3",
      "display_name": "Python 3"
    },
    "language_info": {
      "name": "python"
    }
  },
  "cells": [
    {
      "cell_type": "markdown",
      "metadata": {
        "id": "view-in-github",
        "colab_type": "text"
      },
      "source": [
        "<a href=\"https://colab.research.google.com/github/INFODorkar7/INFODorkar7-BTE401_BonusAssignment1_SuhalaAshrafZeba_20336010/blob/main/BTE_401_Bonus_Assignment_1_PythonScript_Suhala_20336010.ipynb\" target=\"_parent\"><img src=\"https://colab.research.google.com/assets/colab-badge.svg\" alt=\"Open In Colab\"/></a>"
      ]
    },
    {
      "cell_type": "code",
      "execution_count": null,
      "metadata": {
        "colab": {
          "base_uri": "https://localhost:8080/"
        },
        "id": "PUSuYV8kOLjo",
        "outputId": "3dea38ae-a0f6-4adb-da6f-d8100eb60da4"
      },
      "outputs": [
        {
          "output_type": "stream",
          "name": "stdout",
          "text": [
            "Collecting biopython\n",
            "  Downloading biopython-1.81-cp310-cp310-manylinux_2_17_x86_64.manylinux2014_x86_64.whl (3.1 MB)\n",
            "\u001b[2K     \u001b[90m━━━━━━━━━━━━━━━━━━━━━━━━━━━━━━━━━━━━━━━━\u001b[0m \u001b[32m3.1/3.1 MB\u001b[0m \u001b[31m32.0 MB/s\u001b[0m eta \u001b[36m0:00:00\u001b[0m\n",
            "\u001b[?25hRequirement already satisfied: numpy in /usr/local/lib/python3.10/dist-packages (from biopython) (1.23.5)\n",
            "Installing collected packages: biopython\n",
            "Successfully installed biopython-1.81\n"
          ]
        }
      ],
      "source": [
        "pip install biopython"
      ]
    },
    {
      "cell_type": "code",
      "source": [
        "from Bio import SeqIO\n",
        "\n",
        "# Path to your DNA FASTA file\n",
        "fasta_file = \"/fasta_py.py\"\n",
        "\n",
        "# Length of the promoter sequence\n",
        "promoter_length = 200  # Adjust this value according to your requirements\n",
        "\n",
        "# Length within which to search for the start codon\n",
        "search_range = 30\n",
        "\n",
        "# Load the FASTA file using SeqIO.parse()\n",
        "sequences = SeqIO.parse(fasta_file, \"fasta\")\n",
        "\n",
        "# Iterate through the sequences and search for the start codon\n",
        "for seq_record in sequences:\n",
        "    sequence = seq_record.seq\n",
        "    promoter = sequence[:promoter_length]\n",
        "\n",
        "    # Search for the start codon within the specified range\n",
        "    for i in range(len(promoter) - search_range):\n",
        "        candidate_start_codon = promoter[i:i+3]\n",
        "        if candidate_start_codon in [\"ATG\", \"GTG\", \"TTG\"]:\n",
        "            print(f\">Sequence_{seq_record.id}\\nPromoter: {promoter}\\nStart Codon: {candidate_start_codon}\")\n",
        "            break\n"
      ],
      "metadata": {
        "colab": {
          "base_uri": "https://localhost:8080/"
        },
        "id": "Pp42lrDFOc4L",
        "outputId": "03213619-5220-43a7-bea5-d1ace54dc563"
      },
      "execution_count": null,
      "outputs": [
        {
          "output_type": "stream",
          "name": "stdout",
          "text": [
            ">Sequence_NZ_CATLUL010000280.1\n",
            "Promoter: GCATCAGTAAAAGGGCTAGTATCTCCGCCATTGGGGGCGATAGAGCCTGATTTGAAGGCAATGCCCGGCTGGTCGTTATACTCCATGGCTGCGCGCGCAATGATTTCAAGCTGATCGTAATTCGCTCGCCATGTTGCACGTAGTGCTTGTACTGAAACACCCTGAAGATCTTCGCTGTTGCACGGCACTTCTTCACCAAG\n",
            "Start Codon: TTG\n"
          ]
        }
      ]
    },
    {
      "cell_type": "code",
      "source": [
        "# Main function\n",
        "def main():\n",
        "    # Provided sequence and information\n",
        "    dna_sequence = (\"GCATCAGTAAAAGGGCTAGTATCTCCGCCATTGGGGGCGATAGAGCCTGATTTGAAGGCAATGCCCGGCTGGTCGTTATACTCCATGGCTGCGCGCGCAATGATTTCAAGCTGATCGTAATTCGCTCGCCATGTTGCACGTAGTGCTTGTACTGAAACACCCTGAAGATCTTCGCTGTTGCACGGCACTTCTTCACCAAGATGGTTGTACATATTTGCATTACCGTAATAGGAGTCAGCGCTACAGGCATTGTTTTCTACAATGCCGTCCATTTCGCGATAAAGACCTGCTATACGAAAACTGTGGTTGTCGTTAATAGGCTGGTTATACATGAATTCAAGTTCTTGCCCTTGCTCTGAGTTATAGCCAACCTGTACCTTGCCTTCTTGTTCGAAGGTGGGAAGATTAGAATGAATACTCACCGCACCATTGGCTGCCGCTACACCAAACAAGGTTGGCTGGGGGCCTTTTAAAACCTCTACGCGCGCAATATCAAAAAGCGCGACGCTGGCTACCGTCTTTTTACTGATATCAAAGCCATCTTGATATACAGAGATGCGAGGCGTTGCCGACACCGAAGATACGTCGTCAGTCACGCCTCGAATATTAAAGGACGGTAAGCTTACAGCCTGCTCTTGAATTTGAACGTTAGGTAAAATACGAGAAAGCTCATCAAGTTCCATGATATTGGTGCGCTCTAAGAACTCGCTACCTATTACATCCATAGTAACAGGCACATCCATAACGGACTGCTCACGCATTTGTGCGGTTACCGTAATCTCTTCTATATAGTTATGTTCGTTTTCTGTGTCGGGCGCTACTTCTTGTGCAATTGCGGCGCTTGATAGCGCAAATGCAATTGTTGTGGCAAGCAGAGAGCGTGGATAAACCGTTCGTGGGTACAGAGGACGCATCAAATCATTCCTTTTGTGTGCTTATTGGGTGTTTTATGTATTTTTTAAACATTTCGCCGACAGATTGGCGACATTGCCTAGTGTTTAGAAATATCAAAGCCCAAAAATGTAGAACGCTTTTGAGACGGTTCGATGAACTATCCGTGACATGTCGGAGGCAATTTTATGACAAGTATTCTGTGCCCCGTTATAAAACCAAACAGAACTCAATTCTGTACAACAAAGTAGTGCAACCTCTATGCACAAAAGAACAATGTCAGTACAATATTTAAGTAGGATAGAAAGAACTTTTAAATAAAAAGCGAAACGGAGACTGCAATGAAAAAACTAATGATGGCTACTGCTATTGGCGCCGCGACCTTATTAAGCGCATGTAGTGCAGAGCACGGCACCACTCAGTGTACTACTGCGCCGGAAGCTGAATGGCAAAACCAAGATGCGTTTCAGGCTCAGCTGTTAGCGCAAGGCTACAAAATCAACGAATTTAAAGTGACAGGCGGTAACTGCTACGAAATCTACGGCTTCGATAAAGAAGAGAACAAAGTAGAGATTTACTTTAACCCTGTTGATGGCAGCATTGTTAAAAAAGAAATGCACTAAATTCTGTTTAGCAAACGGTTCATCGAACGCTTGCTTTAAAACTTGATAAAAACGCTGCAAACTATTGCAGCGTTTTTGTTTTACCCTGAGAAAGTCACGTAATGCACAAAGCTAAAGACACGGGTTCAGATATTTATGTTTGGGATCGGGTAGTGCGCGTATGCCACTGGGGCATTGTTGCAATTTTTATAACCAACTACTTTATTGTAGAGCCGGGCCGGCTTTATCATGAAATAGCAGGGTACGCTGGGGTGTCGTTTATTCTACTACGACTTGCTTGGGGCACGCTTCAACAACAAAAGGCGCAGAATAAGAGTGGAGAAATCCCTTACGCTAGTTTTGCCAGCGTATCTTTGAGTAAAAAGGCTTTTATCGAGCACTTTCACCATTTACAGCAAAAGAAAATCCCCACCAGGCACGGTCATAACCCTTTCGGTTGGCTAATGATATTTGCCGTATTCACTCTATTCTTAGGTTTAGGCATTACCGGCTTTATGATGGAAGAGATAGACGCCATGTTTGGCAACAGCACGTTGGAATGGATACACAGCATTATGGCCGATGTGCTTTACGCCTGCGTTTTAGTGCATATTGCGGCAGTGTTTTTAGTACAGTACTTAGGGAATGTTCAGCTTATTCGCCCTATGCTTACCGGGTGGCGAAAACGATAGTGTCTACCCCTTCACCCTGCGGAACGTTTTTGCTCAGTATTTTCCGTGGGTTCACAATAGCTATGCATAACCTTTTAGGCTCAATAACAACAAGTGGACGGTGCGTGACAGCTCTAACTATCCATTGGGCGCTTAGCTTGACGCACCGCTTTCGGGTGCATTAGCTTTTCTAAACGCGCTAGATAAGATGAAATTTTTTGATGCTGTTTTTTATCGTTTGTGACCGAGTTATAAAGCCAGTGATACGCATCTTCGTAATCGTAGGGGCTACCGTAACCTTCTAAAAACAACTCAACCAATCGAATTTGCGCTTTTAGGTTTTTAAGTGCAGCGGCTTCGCGTAAATACACCACGGCGCGAGACTTATCTT\")\n",
        "    promoter_sequence = \"GCATCAGTAAAAGGGCTAGTATCTCCGCCATTGGGGGCGATAGAGCCTGATTTGAAGGCAATGCCCGGCTGGTCGTTATACTCCATGGCTGCGCGCGCAATGATTTCAAGCTGATCGTAATTCGCTCGCCATGTTGCACGTAGTGCTTGTACTGAAACACCCTGAAGATCTTCGCTGTTGCACGGCACTTCTTCACCAAG\"\n",
        "    start_codon = \"TTG\"\n",
        "\n",
        "    # Look for promoter sequence in DNA sequence\n",
        "    promoter_position = dna_sequence.find(promoter_sequence)\n",
        "\n",
        "    if promoter_position != -1:\n",
        "        # Look for start codon within 30 bases of promoter sequence\n",
        "        start_codon_search_range = dna_sequence[promoter_position: promoter_position + 30]\n",
        "        start_codon_position = start_codon_search_range.find(start_codon)\n",
        "\n",
        "        if start_codon_position != -1:\n",
        "            print(\"Start codon found within 30 bases of the promoter sequence.\")\n",
        "        else:\n",
        "            print(\"Start codon not found within 30 bases of the promoter sequence.\")\n",
        "    else:\n",
        "        print(\"Promoter sequence not found in the DNA sequence.\")\n",
        "\n",
        "if __name__ == \"__main__\":\n",
        "    main()"
      ],
      "metadata": {
        "colab": {
          "base_uri": "https://localhost:8080/"
        },
        "id": "sT3IJw4LOxH4",
        "outputId": "84b433b4-ca9a-4e3c-bbd8-5f669ce8b099"
      },
      "execution_count": null,
      "outputs": [
        {
          "output_type": "stream",
          "name": "stdout",
          "text": [
            "Start codon not found within 30 bases of the promoter sequence.\n"
          ]
        }
      ]
    },
    {
      "cell_type": "code",
      "source": [
        "# Translate DNA sequence to protein sequence\n",
        "def translate_sequence(dna_sequence):\n",
        "    codon_table = {\n",
        "        'ATA': 'I', 'ATC': 'I', 'ATT': 'I', 'ATG': 'M',\n",
        "        'ACA': 'T', 'ACC': 'T', 'ACG': 'T', 'ACT': 'T',\n",
        "        'AAC': 'N', 'AAT': 'N', 'AAA': 'K', 'AAG': 'K',\n",
        "        'AGC': 'S', 'AGT': 'S', 'AGA': 'R', 'AGG': 'R',\n",
        "        'CTA': 'L', 'CTC': 'L', 'CTG': 'L', 'CTT': 'L',\n",
        "        'CCA': 'P', 'CCC': 'P', 'CCG': 'P', 'CCT': 'P',\n",
        "        'CAC': 'H', 'CAT': 'H', 'CAA': 'Q', 'CAG': 'Q',\n",
        "        'CGA': 'R', 'CGC': 'R', 'CGG': 'R', 'CGT': 'R',\n",
        "        'GTA': 'V', 'GTC': 'V', 'GTG': 'V', 'GTT': 'V',\n",
        "        'GCA': 'A', 'GCC': 'A', 'GCG': 'A', 'GCT': 'A',\n",
        "        'GAC': 'D', 'GAT': 'D', 'GAA': 'E', 'GAG': 'E',\n",
        "        'GGA': 'G', 'GGC': 'G', 'GGG': 'G', 'GGT': 'G',\n",
        "        'TCA': 'S', 'TCC': 'S', 'TCG': 'S', 'TCT': 'S',\n",
        "        'TTC': 'F', 'TTT': 'F', 'TTA': 'L', 'TTG': 'L',\n",
        "        'TAC': 'Y', 'TAT': 'Y', 'TAA': '*', 'TAG': '*',\n",
        "        'TGC': 'C', 'TGT': 'C', 'TGA': '*', 'TGG': 'W',\n",
        "    }\n",
        "\n",
        "    protein_sequence = ''\n",
        "    for i in range(0, len(dna_sequence) - 2, 3):\n",
        "        codon = dna_sequence[i:i + 3]\n",
        "        amino_acid = codon_table.get(codon, 'X')  # 'X' for unknown codons\n",
        "        protein_sequence += amino_acid\n",
        "\n",
        "    return protein_sequence\n",
        "\n",
        "# Main function\n",
        "def main():\n",
        "    # Provided DNA sequence\n",
        "    dna_sequence = (\"GCATCAGTAAAAGGGCTAGTATCTCCGCCATTGGGGGCGATAGAGCCTGATTTGAAGGCAATGCCCGGCTGGTCGTTATACTCCATGGCTGCGCGCGCAATGATTTCAAGCTGATCGTAATTCGCTCGCCATGTTGCACGTAGTGCTTGTACTGAAACACCCTGAAGATCTTCGCTGTTGCACGGCACTTCTTCACCAAGATGGTTGTACATATTTGCATTACCGTAATAGGAGTCAGCGCTACAGGCATTGTTTTCTACAATGCCGTCCATTTCGCGAT\")\n",
        "\n",
        "    # Translate the DNA sequence to protein sequence\n",
        "    protein_sequence = translate_sequence(dna_sequence)\n",
        "\n",
        "    # Look for at least 50 consecutive amino acids before a stop codon\n",
        "    gene_found = False\n",
        "    stop_codons = ['TAA', 'TAG', 'TGA']\n",
        "    for i in range(len(protein_sequence) - 50):\n",
        "        if all(protein_sequence[i + j] != '*' for j in range(50)) and \\\n",
        "           any(protein_sequence[i + j] in stop_codons for j in range(50, 53)):\n",
        "            gene_found = True\n",
        "            break\n",
        "\n",
        "    # Output based on gene presence\n",
        "    if gene_found:\n",
        "        print('Gene found')\n",
        "    else:\n",
        "        print('Gene not found')\n",
        "\n",
        "if __name__ == \"__main__\":\n",
        "    main()"
      ],
      "metadata": {
        "id": "9lH2lpdZTls_",
        "colab": {
          "base_uri": "https://localhost:8080/"
        },
        "outputId": "1f800b8a-caae-4b89-eead-ee6687cb1077"
      },
      "execution_count": null,
      "outputs": [
        {
          "output_type": "stream",
          "name": "stdout",
          "text": [
            "Gene not found\n"
          ]
        }
      ]
    }
  ]
}